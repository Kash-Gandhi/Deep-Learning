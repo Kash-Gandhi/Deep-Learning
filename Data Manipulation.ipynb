{
 "cells": [
  {
   "cell_type": "markdown",
   "metadata": {},
   "source": [
    "# Data Manipulation"
   ]
  },
  {
   "cell_type": "code",
   "execution_count": null,
   "metadata": {},
   "outputs": [],
   "source": [
    "import tensorflow as tf"
   ]
  },
  {
   "cell_type": "code",
   "execution_count": null,
   "metadata": {},
   "outputs": [],
   "source": [
    "x = tf.range(12, dtype=tf.float32)\n",
    "x"
   ]
  },
  {
   "cell_type": "markdown",
   "metadata": {},
   "source": [
    "We can access a tensor’s shape (the length along each axis) by inspecting its shape property.\n"
   ]
  },
  {
   "cell_type": "code",
   "execution_count": null,
   "metadata": {},
   "outputs": [],
   "source": [
    "x.shape"
   ]
  },
  {
   "cell_type": "markdown",
   "metadata": {},
   "source": [
    "If we just want to know the total number of elements in a tensor, i.e., the product of all of the shape elements, we can inspect its size."
   ]
  },
  {
   "cell_type": "code",
   "execution_count": null,
   "metadata": {},
   "outputs": [],
   "source": [
    "tf.size(x)"
   ]
  },
  {
   "cell_type": "markdown",
   "metadata": {},
   "source": [
    "We can transform our tensor, x, from a row vector with shape (12,) to a matrix with shape (3, 4)."
   ]
  },
  {
   "cell_type": "code",
   "execution_count": null,
   "metadata": {},
   "outputs": [],
   "source": [
    "X = tf.reshape(x, (3, 4))\n",
    "display(X)"
   ]
  },
  {
   "cell_type": "markdown",
   "metadata": {},
   "source": [
    "Tensors can automatically work out one dimension given the rest. We invoke this capability by placing -1 for the dimension that we would like tensors to automatically infer."
   ]
  },
  {
   "cell_type": "code",
   "execution_count": null,
   "metadata": {},
   "outputs": [],
   "source": [
    "X = tf.reshape(x,(-1, 4))\n",
    "# or\n",
    "X = tf.reshape(x,(3, -1))"
   ]
  },
  {
   "cell_type": "markdown",
   "metadata": {},
   "source": [
    "We can create a tensor representing a tensor with all elements set to 0 and a shape of (2, 3, 4) as follows:"
   ]
  },
  {
   "cell_type": "code",
   "execution_count": null,
   "metadata": {},
   "outputs": [],
   "source": [
    "tf.zeros((2, 3, 4))"
   ]
  },
  {
   "cell_type": "markdown",
   "metadata": {},
   "source": [
    "Similarly, we can create tensors with each element set to 1 as follows:"
   ]
  },
  {
   "cell_type": "code",
   "execution_count": null,
   "metadata": {},
   "outputs": [],
   "source": [
    "tf.ones((2, 3, 4))"
   ]
  },
  {
   "cell_type": "markdown",
   "metadata": {},
   "source": [
    "The following snippet creates a tensor with shape (3, 4). Each of its elements is randomly sampled from a standard Gaussian (normal) distribution with a mean of 0 and a standard deviation of 1."
   ]
  },
  {
   "cell_type": "code",
   "execution_count": null,
   "metadata": {},
   "outputs": [],
   "source": [
    "tf.random.normal(shape=[3, 4])"
   ]
  },
  {
   "cell_type": "markdown",
   "metadata": {},
   "source": [
    "We can also specify the exact values for each element in the desired tensor by supplying a Python list (or list of lists) containing the numerical values. Here, the outermost list corresponds to axis 0, and the inner list to axis 1."
   ]
  },
  {
   "cell_type": "code",
   "execution_count": null,
   "metadata": {},
   "outputs": [],
   "source": [
    "tf.constant([[2, 1, 4, 3], [1, 2, 3, 4], [4, 3, 2, 1]])"
   ]
  },
  {
   "cell_type": "markdown",
   "metadata": {},
   "source": [
    "## Operations "
   ]
  },
  {
   "cell_type": "code",
   "execution_count": null,
   "metadata": {},
   "outputs": [],
   "source": [
    "x = tf.constant([1.0, 2, 4, 8])\n",
    "y = tf.constant([2.0, 2, 2, 2])\n",
    "x + y, x - y, x * y, x / y, x ** y  # The ** operator is exponentiation and applied element wise\n",
    "\n",
    "# Many more operations can be applied elementwise, including unary operators like exponentiation.\n",
    "tf.exp(x)"
   ]
  },
  {
   "cell_type": "markdown",
   "metadata": {},
   "source": [
    "The example below shows what happens when we concatenate two matrices along rows (axis 0, the first element of the shape) vs. columns (axis 1, the second element of the shape).\n"
   ]
  },
  {
   "cell_type": "code",
   "execution_count": null,
   "metadata": {},
   "outputs": [],
   "source": [
    "X = tf.reshape(tf.range(12, dtype=tf.float32), (3, 4))\n",
    "Y = tf.constant([[2.0, 1, 4, 3], [1, 2, 3, 4], [4, 3, 2, 1]])\n",
    "tf.concat([X, Y], axis=0), tf.concat([X, Y], axis=1)"
   ]
  },
  {
   "cell_type": "markdown",
   "metadata": {},
   "source": [
    "Sometimes, we want to construct a binary tensor via logical statements. Take X == Y as an example. For each position, if X and Y are equal at that position, the corresponding entry in the new tensor takes a value of 1, meaning that the logical statement X == Y is true at that position; otherwise that position takes 0."
   ]
  },
  {
   "cell_type": "code",
   "execution_count": null,
   "metadata": {},
   "outputs": [],
   "source": [
    "X == Y"
   ]
  },
  {
   "cell_type": "markdown",
   "metadata": {},
   "source": [
    "Summing all the elements in the tensor yields a tensor with only one element."
   ]
  },
  {
   "cell_type": "code",
   "execution_count": null,
   "metadata": {},
   "outputs": [],
   "source": [
    "tf.reduce_sum(X)"
   ]
  },
  {
   "cell_type": "markdown",
   "metadata": {},
   "source": [
    "## Broadcasting Mechanism"
   ]
  },
  {
   "cell_type": "markdown",
   "metadata": {},
   "source": [
    "Under certain conditions, even when shapes differ, we can still perform elementwise operations by invoking the broadcasting mechanism. This mechanism works in the following way: First, expand one or both arrays by copying elements appropriately so that after this transformation, the two tensors have the same shape. Second, carry out the elementwise operations on the resulting arrays.\n",
    "\n",
    "In most cases, we broadcast along an axis where an array initially only has length 1, such as in the following example:"
   ]
  },
  {
   "cell_type": "code",
   "execution_count": null,
   "metadata": {},
   "outputs": [],
   "source": [
    "a = tf.reshape(tf.range(3), (3, 1))\n",
    "b = tf.reshape(tf.range(2), (1, 2))\n",
    "a, b"
   ]
  },
  {
   "cell_type": "markdown",
   "metadata": {},
   "source": [
    "We broadcast the entries of both matrices into a larger 3×2 matrix as follows: for matrix a it replicates the columns and for matrix b it replicates the rows before adding up both elementwise."
   ]
  },
  {
   "cell_type": "code",
   "execution_count": null,
   "metadata": {},
   "outputs": [],
   "source": [
    "a+b"
   ]
  },
  {
   "cell_type": "markdown",
   "metadata": {},
   "source": [
    "## Indexing and Slicing"
   ]
  },
  {
   "cell_type": "code",
   "execution_count": null,
   "metadata": {},
   "outputs": [],
   "source": [
    "X[-1], X[1:3]"
   ]
  },
  {
   "cell_type": "markdown",
   "metadata": {},
   "source": [
    "Tensors in TensorFlow are immutable, and cannot be assigned to. Variables in TensorFlow are mutable containers of state that support assignments. Keep in mind that gradients in TensorFlow do not flow backwards through Variable assignments.\n",
    "\n",
    "Beyond assigning a value to the entire Variable, we can write elements of a Variable by specifying indices."
   ]
  },
  {
   "cell_type": "code",
   "execution_count": null,
   "metadata": {},
   "outputs": [],
   "source": [
    "X_var = tf.Variable(X)\n",
    "X_var[1, 2].assign(9)\n",
    "X_var"
   ]
  },
  {
   "cell_type": "code",
   "execution_count": 25,
   "metadata": {},
   "outputs": [
    {
     "ename": "NotFoundError",
     "evalue": "No registered 'ResourceStridedSliceAssign' OpKernel for 'GPU' devices compatible with node {{node ResourceStridedSliceAssign}}\n\t (OpKernel was found, but attributes didn't match) Requested Attributes: Index=DT_INT32, T=DT_FLOAT, begin_mask=2, ellipsis_mask=0, end_mask=2, new_axis_mask=0, shrink_axis_mask=0\n\t.  Registered:  device='DEFAULT'; T in [DT_INT32]\n  device='CPU'; T in [DT_UINT64]\n  device='CPU'; T in [DT_INT64]\n  device='CPU'; T in [DT_UINT32]\n  device='CPU'; T in [DT_UINT16]\n  device='CPU'; T in [DT_INT16]\n  device='CPU'; T in [DT_UINT8]\n  device='CPU'; T in [DT_INT8]\n  device='CPU'; T in [DT_INT32]\n  device='CPU'; T in [DT_HALF]\n  device='CPU'; T in [DT_BFLOAT16]\n  device='CPU'; T in [DT_FLOAT]\n  device='CPU'; T in [DT_DOUBLE]\n  device='CPU'; T in [DT_COMPLEX64]\n  device='CPU'; T in [DT_COMPLEX128]\n  device='CPU'; T in [DT_BOOL]\n  device='CPU'; T in [DT_STRING]\n  device='CPU'; T in [DT_RESOURCE]\n  device='CPU'; T in [DT_VARIANT]\n [Op:ResourceStridedSliceAssign] name: strided_slice/_assign",
     "output_type": "error",
     "traceback": [
      "\u001b[0;31m---------------------------------------------------------------------------\u001b[0m",
      "\u001b[0;31mNotFoundError\u001b[0m                             Traceback (most recent call last)",
      "\u001b[1;32m/Users/kashvigandhi/Library/CloudStorage/OneDrive-LondonSchoolofEconomics/Deep-Learning/Data Manipulation.ipynb Cell 37'\u001b[0m in \u001b[0;36m<cell line: 2>\u001b[0;34m()\u001b[0m\n\u001b[1;32m      <a href='vscode-notebook-cell:/Users/kashvigandhi/Library/CloudStorage/OneDrive-LondonSchoolofEconomics/Deep-Learning/Data%20Manipulation.ipynb#ch0000061?line=0'>1</a>\u001b[0m X_var \u001b[39m=\u001b[39m tf\u001b[39m.\u001b[39mVariable(X)\n\u001b[0;32m----> <a href='vscode-notebook-cell:/Users/kashvigandhi/Library/CloudStorage/OneDrive-LondonSchoolofEconomics/Deep-Learning/Data%20Manipulation.ipynb#ch0000061?line=1'>2</a>\u001b[0m X_var[\u001b[39m0\u001b[39;49m:\u001b[39m2\u001b[39;49m, :]\u001b[39m.\u001b[39;49massign(tf\u001b[39m.\u001b[39;49mones(X_var[\u001b[39m0\u001b[39;49m:\u001b[39m2\u001b[39;49m,:]\u001b[39m.\u001b[39;49mshape, dtype \u001b[39m=\u001b[39;49m tf\u001b[39m.\u001b[39;49mfloat32) \u001b[39m*\u001b[39;49m \u001b[39m12\u001b[39;49m)\n\u001b[1;32m      <a href='vscode-notebook-cell:/Users/kashvigandhi/Library/CloudStorage/OneDrive-LondonSchoolofEconomics/Deep-Learning/Data%20Manipulation.ipynb#ch0000061?line=2'>3</a>\u001b[0m X_var\n",
      "File \u001b[0;32m~/miniforge3/envs/tensorflow/lib/python3.9/site-packages/tensorflow/python/ops/array_ops.py:1234\u001b[0m, in \u001b[0;36mstrided_slice.<locals>.assign\u001b[0;34m(val, name)\u001b[0m\n\u001b[1;32m   <a href='file:///Users/kashvigandhi/miniforge3/envs/tensorflow/lib/python3.9/site-packages/tensorflow/python/ops/array_ops.py?line=1230'>1231</a>\u001b[0m \u001b[39mif\u001b[39;00m name \u001b[39mis\u001b[39;00m \u001b[39mNone\u001b[39;00m:\n\u001b[1;32m   <a href='file:///Users/kashvigandhi/miniforge3/envs/tensorflow/lib/python3.9/site-packages/tensorflow/python/ops/array_ops.py?line=1231'>1232</a>\u001b[0m   name \u001b[39m=\u001b[39m parent_name \u001b[39m+\u001b[39m \u001b[39m\"\u001b[39m\u001b[39m_assign\u001b[39m\u001b[39m\"\u001b[39m\n\u001b[0;32m-> <a href='file:///Users/kashvigandhi/miniforge3/envs/tensorflow/lib/python3.9/site-packages/tensorflow/python/ops/array_ops.py?line=1233'>1234</a>\u001b[0m \u001b[39mreturn\u001b[39;00m var\u001b[39m.\u001b[39;49m_strided_slice_assign(\n\u001b[1;32m   <a href='file:///Users/kashvigandhi/miniforge3/envs/tensorflow/lib/python3.9/site-packages/tensorflow/python/ops/array_ops.py?line=1234'>1235</a>\u001b[0m     begin\u001b[39m=\u001b[39;49mbegin,\n\u001b[1;32m   <a href='file:///Users/kashvigandhi/miniforge3/envs/tensorflow/lib/python3.9/site-packages/tensorflow/python/ops/array_ops.py?line=1235'>1236</a>\u001b[0m     end\u001b[39m=\u001b[39;49mend,\n\u001b[1;32m   <a href='file:///Users/kashvigandhi/miniforge3/envs/tensorflow/lib/python3.9/site-packages/tensorflow/python/ops/array_ops.py?line=1236'>1237</a>\u001b[0m     strides\u001b[39m=\u001b[39;49mstrides,\n\u001b[1;32m   <a href='file:///Users/kashvigandhi/miniforge3/envs/tensorflow/lib/python3.9/site-packages/tensorflow/python/ops/array_ops.py?line=1237'>1238</a>\u001b[0m     value\u001b[39m=\u001b[39;49mval,\n\u001b[1;32m   <a href='file:///Users/kashvigandhi/miniforge3/envs/tensorflow/lib/python3.9/site-packages/tensorflow/python/ops/array_ops.py?line=1238'>1239</a>\u001b[0m     name\u001b[39m=\u001b[39;49mname,\n\u001b[1;32m   <a href='file:///Users/kashvigandhi/miniforge3/envs/tensorflow/lib/python3.9/site-packages/tensorflow/python/ops/array_ops.py?line=1239'>1240</a>\u001b[0m     begin_mask\u001b[39m=\u001b[39;49mbegin_mask,\n\u001b[1;32m   <a href='file:///Users/kashvigandhi/miniforge3/envs/tensorflow/lib/python3.9/site-packages/tensorflow/python/ops/array_ops.py?line=1240'>1241</a>\u001b[0m     end_mask\u001b[39m=\u001b[39;49mend_mask,\n\u001b[1;32m   <a href='file:///Users/kashvigandhi/miniforge3/envs/tensorflow/lib/python3.9/site-packages/tensorflow/python/ops/array_ops.py?line=1241'>1242</a>\u001b[0m     ellipsis_mask\u001b[39m=\u001b[39;49mellipsis_mask,\n\u001b[1;32m   <a href='file:///Users/kashvigandhi/miniforge3/envs/tensorflow/lib/python3.9/site-packages/tensorflow/python/ops/array_ops.py?line=1242'>1243</a>\u001b[0m     new_axis_mask\u001b[39m=\u001b[39;49mnew_axis_mask,\n\u001b[1;32m   <a href='file:///Users/kashvigandhi/miniforge3/envs/tensorflow/lib/python3.9/site-packages/tensorflow/python/ops/array_ops.py?line=1243'>1244</a>\u001b[0m     shrink_axis_mask\u001b[39m=\u001b[39;49mshrink_axis_mask)\n",
      "File \u001b[0;32m~/miniforge3/envs/tensorflow/lib/python3.9/site-packages/tensorflow/python/ops/resource_variable_ops.py:1369\u001b[0m, in \u001b[0;36mBaseResourceVariable._strided_slice_assign\u001b[0;34m(self, begin, end, strides, value, name, begin_mask, end_mask, ellipsis_mask, new_axis_mask, shrink_axis_mask)\u001b[0m\n\u001b[1;32m   <a href='file:///Users/kashvigandhi/miniforge3/envs/tensorflow/lib/python3.9/site-packages/tensorflow/python/ops/resource_variable_ops.py?line=1363'>1364</a>\u001b[0m \u001b[39mdef\u001b[39;00m \u001b[39m_strided_slice_assign\u001b[39m(\u001b[39mself\u001b[39m, begin, end, strides, value, name, begin_mask,\n\u001b[1;32m   <a href='file:///Users/kashvigandhi/miniforge3/envs/tensorflow/lib/python3.9/site-packages/tensorflow/python/ops/resource_variable_ops.py?line=1364'>1365</a>\u001b[0m                           end_mask, ellipsis_mask, new_axis_mask,\n\u001b[1;32m   <a href='file:///Users/kashvigandhi/miniforge3/envs/tensorflow/lib/python3.9/site-packages/tensorflow/python/ops/resource_variable_ops.py?line=1365'>1366</a>\u001b[0m                           shrink_axis_mask):\n\u001b[1;32m   <a href='file:///Users/kashvigandhi/miniforge3/envs/tensorflow/lib/python3.9/site-packages/tensorflow/python/ops/resource_variable_ops.py?line=1366'>1367</a>\u001b[0m   \u001b[39mwith\u001b[39;00m _handle_graph(\u001b[39mself\u001b[39m\u001b[39m.\u001b[39mhandle), \u001b[39mself\u001b[39m\u001b[39m.\u001b[39m_assign_dependencies():\n\u001b[1;32m   <a href='file:///Users/kashvigandhi/miniforge3/envs/tensorflow/lib/python3.9/site-packages/tensorflow/python/ops/resource_variable_ops.py?line=1367'>1368</a>\u001b[0m     \u001b[39mreturn\u001b[39;00m \u001b[39mself\u001b[39m\u001b[39m.\u001b[39m_lazy_read(\n\u001b[0;32m-> <a href='file:///Users/kashvigandhi/miniforge3/envs/tensorflow/lib/python3.9/site-packages/tensorflow/python/ops/resource_variable_ops.py?line=1368'>1369</a>\u001b[0m         gen_array_ops\u001b[39m.\u001b[39;49mresource_strided_slice_assign(\n\u001b[1;32m   <a href='file:///Users/kashvigandhi/miniforge3/envs/tensorflow/lib/python3.9/site-packages/tensorflow/python/ops/resource_variable_ops.py?line=1369'>1370</a>\u001b[0m             ref\u001b[39m=\u001b[39;49m\u001b[39mself\u001b[39;49m\u001b[39m.\u001b[39;49mhandle,\n\u001b[1;32m   <a href='file:///Users/kashvigandhi/miniforge3/envs/tensorflow/lib/python3.9/site-packages/tensorflow/python/ops/resource_variable_ops.py?line=1370'>1371</a>\u001b[0m             begin\u001b[39m=\u001b[39;49mbegin,\n\u001b[1;32m   <a href='file:///Users/kashvigandhi/miniforge3/envs/tensorflow/lib/python3.9/site-packages/tensorflow/python/ops/resource_variable_ops.py?line=1371'>1372</a>\u001b[0m             end\u001b[39m=\u001b[39;49mend,\n\u001b[1;32m   <a href='file:///Users/kashvigandhi/miniforge3/envs/tensorflow/lib/python3.9/site-packages/tensorflow/python/ops/resource_variable_ops.py?line=1372'>1373</a>\u001b[0m             strides\u001b[39m=\u001b[39;49mstrides,\n\u001b[1;32m   <a href='file:///Users/kashvigandhi/miniforge3/envs/tensorflow/lib/python3.9/site-packages/tensorflow/python/ops/resource_variable_ops.py?line=1373'>1374</a>\u001b[0m             value\u001b[39m=\u001b[39;49mops\u001b[39m.\u001b[39;49mconvert_to_tensor(value, dtype\u001b[39m=\u001b[39;49m\u001b[39mself\u001b[39;49m\u001b[39m.\u001b[39;49mdtype),\n\u001b[1;32m   <a href='file:///Users/kashvigandhi/miniforge3/envs/tensorflow/lib/python3.9/site-packages/tensorflow/python/ops/resource_variable_ops.py?line=1374'>1375</a>\u001b[0m             name\u001b[39m=\u001b[39;49mname,\n\u001b[1;32m   <a href='file:///Users/kashvigandhi/miniforge3/envs/tensorflow/lib/python3.9/site-packages/tensorflow/python/ops/resource_variable_ops.py?line=1375'>1376</a>\u001b[0m             begin_mask\u001b[39m=\u001b[39;49mbegin_mask,\n\u001b[1;32m   <a href='file:///Users/kashvigandhi/miniforge3/envs/tensorflow/lib/python3.9/site-packages/tensorflow/python/ops/resource_variable_ops.py?line=1376'>1377</a>\u001b[0m             end_mask\u001b[39m=\u001b[39;49mend_mask,\n\u001b[1;32m   <a href='file:///Users/kashvigandhi/miniforge3/envs/tensorflow/lib/python3.9/site-packages/tensorflow/python/ops/resource_variable_ops.py?line=1377'>1378</a>\u001b[0m             ellipsis_mask\u001b[39m=\u001b[39;49mellipsis_mask,\n\u001b[1;32m   <a href='file:///Users/kashvigandhi/miniforge3/envs/tensorflow/lib/python3.9/site-packages/tensorflow/python/ops/resource_variable_ops.py?line=1378'>1379</a>\u001b[0m             new_axis_mask\u001b[39m=\u001b[39;49mnew_axis_mask,\n\u001b[1;32m   <a href='file:///Users/kashvigandhi/miniforge3/envs/tensorflow/lib/python3.9/site-packages/tensorflow/python/ops/resource_variable_ops.py?line=1379'>1380</a>\u001b[0m             shrink_axis_mask\u001b[39m=\u001b[39;49mshrink_axis_mask))\n",
      "File \u001b[0;32m~/miniforge3/envs/tensorflow/lib/python3.9/site-packages/tensorflow/python/ops/gen_array_ops.py:8463\u001b[0m, in \u001b[0;36mresource_strided_slice_assign\u001b[0;34m(ref, begin, end, strides, value, begin_mask, end_mask, ellipsis_mask, new_axis_mask, shrink_axis_mask, name)\u001b[0m\n\u001b[1;32m   <a href='file:///Users/kashvigandhi/miniforge3/envs/tensorflow/lib/python3.9/site-packages/tensorflow/python/ops/gen_array_ops.py?line=8460'>8461</a>\u001b[0m   \u001b[39mreturn\u001b[39;00m _result\n\u001b[1;32m   <a href='file:///Users/kashvigandhi/miniforge3/envs/tensorflow/lib/python3.9/site-packages/tensorflow/python/ops/gen_array_ops.py?line=8461'>8462</a>\u001b[0m \u001b[39mexcept\u001b[39;00m _core\u001b[39m.\u001b[39m_NotOkStatusException \u001b[39mas\u001b[39;00m e:\n\u001b[0;32m-> <a href='file:///Users/kashvigandhi/miniforge3/envs/tensorflow/lib/python3.9/site-packages/tensorflow/python/ops/gen_array_ops.py?line=8462'>8463</a>\u001b[0m   _ops\u001b[39m.\u001b[39;49mraise_from_not_ok_status(e, name)\n\u001b[1;32m   <a href='file:///Users/kashvigandhi/miniforge3/envs/tensorflow/lib/python3.9/site-packages/tensorflow/python/ops/gen_array_ops.py?line=8463'>8464</a>\u001b[0m \u001b[39mexcept\u001b[39;00m _core\u001b[39m.\u001b[39m_FallbackException:\n\u001b[1;32m   <a href='file:///Users/kashvigandhi/miniforge3/envs/tensorflow/lib/python3.9/site-packages/tensorflow/python/ops/gen_array_ops.py?line=8464'>8465</a>\u001b[0m   \u001b[39mpass\u001b[39;00m\n",
      "File \u001b[0;32m~/miniforge3/envs/tensorflow/lib/python3.9/site-packages/tensorflow/python/framework/ops.py:6897\u001b[0m, in \u001b[0;36mraise_from_not_ok_status\u001b[0;34m(e, name)\u001b[0m\n\u001b[1;32m   <a href='file:///Users/kashvigandhi/miniforge3/envs/tensorflow/lib/python3.9/site-packages/tensorflow/python/framework/ops.py?line=6894'>6895</a>\u001b[0m message \u001b[39m=\u001b[39m e\u001b[39m.\u001b[39mmessage \u001b[39m+\u001b[39m (\u001b[39m\"\u001b[39m\u001b[39m name: \u001b[39m\u001b[39m\"\u001b[39m \u001b[39m+\u001b[39m name \u001b[39mif\u001b[39;00m name \u001b[39mis\u001b[39;00m \u001b[39mnot\u001b[39;00m \u001b[39mNone\u001b[39;00m \u001b[39melse\u001b[39;00m \u001b[39m\"\u001b[39m\u001b[39m\"\u001b[39m)\n\u001b[1;32m   <a href='file:///Users/kashvigandhi/miniforge3/envs/tensorflow/lib/python3.9/site-packages/tensorflow/python/framework/ops.py?line=6895'>6896</a>\u001b[0m \u001b[39m# pylint: disable=protected-access\u001b[39;00m\n\u001b[0;32m-> <a href='file:///Users/kashvigandhi/miniforge3/envs/tensorflow/lib/python3.9/site-packages/tensorflow/python/framework/ops.py?line=6896'>6897</a>\u001b[0m six\u001b[39m.\u001b[39;49mraise_from(core\u001b[39m.\u001b[39;49m_status_to_exception(e\u001b[39m.\u001b[39;49mcode, message), \u001b[39mNone\u001b[39;49;00m)\n",
      "File \u001b[0;32m<string>:3\u001b[0m, in \u001b[0;36mraise_from\u001b[0;34m(value, from_value)\u001b[0m\n",
      "\u001b[0;31mNotFoundError\u001b[0m: No registered 'ResourceStridedSliceAssign' OpKernel for 'GPU' devices compatible with node {{node ResourceStridedSliceAssign}}\n\t (OpKernel was found, but attributes didn't match) Requested Attributes: Index=DT_INT32, T=DT_FLOAT, begin_mask=2, ellipsis_mask=0, end_mask=2, new_axis_mask=0, shrink_axis_mask=0\n\t.  Registered:  device='DEFAULT'; T in [DT_INT32]\n  device='CPU'; T in [DT_UINT64]\n  device='CPU'; T in [DT_INT64]\n  device='CPU'; T in [DT_UINT32]\n  device='CPU'; T in [DT_UINT16]\n  device='CPU'; T in [DT_INT16]\n  device='CPU'; T in [DT_UINT8]\n  device='CPU'; T in [DT_INT8]\n  device='CPU'; T in [DT_INT32]\n  device='CPU'; T in [DT_HALF]\n  device='CPU'; T in [DT_BFLOAT16]\n  device='CPU'; T in [DT_FLOAT]\n  device='CPU'; T in [DT_DOUBLE]\n  device='CPU'; T in [DT_COMPLEX64]\n  device='CPU'; T in [DT_COMPLEX128]\n  device='CPU'; T in [DT_BOOL]\n  device='CPU'; T in [DT_STRING]\n  device='CPU'; T in [DT_RESOURCE]\n  device='CPU'; T in [DT_VARIANT]\n [Op:ResourceStridedSliceAssign] name: strided_slice/_assign"
     ]
    }
   ],
   "source": [
    "X_var = tf.Variable(X)\n",
    "X_var[0:2, :].assign(tf.ones(X_var[0:2,:].shape, dtype = tf.float32) * 12)\n",
    "X_var"
   ]
  },
  {
   "cell_type": "code",
   "execution_count": null,
   "metadata": {},
   "outputs": [],
   "source": []
  }
 ],
 "metadata": {
  "interpreter": {
   "hash": "e3c1184f16acd460f72662b7f4d7deb5449b15aa4ddfc048f424cf88ecf2c0c6"
  },
  "kernelspec": {
   "display_name": "Python 3.9.7 ('tensorflow')",
   "language": "python",
   "name": "python3"
  },
  "language_info": {
   "codemirror_mode": {
    "name": "ipython",
    "version": 3
   },
   "file_extension": ".py",
   "mimetype": "text/x-python",
   "name": "python",
   "nbconvert_exporter": "python",
   "pygments_lexer": "ipython3",
   "version": "3.9.7"
  },
  "orig_nbformat": 4
 },
 "nbformat": 4,
 "nbformat_minor": 2
}
